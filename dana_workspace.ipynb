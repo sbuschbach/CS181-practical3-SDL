{
 "cells": [
  {
   "cell_type": "code",
   "execution_count": 1,
   "metadata": {
    "collapsed": true
   },
   "outputs": [],
   "source": [
    "import numpy as np\n",
    "import csv\n",
    "import pandas as pd\n",
    "from sklearn.ensemble import RandomForestClassifier\n",
    "from sklearn import preprocessing\n",
    "from sklearn import datasets, linear_model\n",
    "import pickle\n",
    "import io"
   ]
  },
  {
   "cell_type": "code",
   "execution_count": 90,
   "metadata": {
    "collapsed": true
   },
   "outputs": [],
   "source": [
    "xx = pd.read_pickle(\"X_train.p\")"
   ]
  },
  {
   "cell_type": "code",
   "execution_count": 79,
   "metadata": {
    "collapsed": true
   },
   "outputs": [],
   "source": [
    "train = pd.read_csv('train.csv')\n",
    "test = pd.read_csv('test.csv')\n",
    "profiles_data = pd.read_csv('profiles.csv')\n",
    "\n",
    "train_set = pd.read_csv(\"train.csv\", index_col=[0,1])\n",
    "train_set_unstacked = train_set.unstack(level=-1)\n",
    "train_set_unstacked.fillna(0, inplace=True)"
   ]
  },
  {
   "cell_type": "code",
   "execution_count": 5,
   "metadata": {
    "collapsed": false
   },
   "outputs": [
    {
     "name": "stdout",
     "output_type": "stream",
     "text": [
      "number of users missing age: 44842\n",
      "number of users missing sex: 19535\n",
      "number of users missing country: 0\n"
     ]
    }
   ],
   "source": [
    "print \"number of users missing age: %s\" % sum(profiles_data['age'].isnull())\n",
    "print \"number of users missing sex: %s\" % sum(profiles_data['sex'].isnull())\n",
    "print \"number of users missing country: %s\" % sum(profiles_data['country'].isnull())"
   ]
  },
  {
   "cell_type": "code",
   "execution_count": 3,
   "metadata": {
    "collapsed": false
   },
   "outputs": [
    {
     "data": {
      "text/html": [
       "<div style=\"max-height:1000px;max-width:1500px;overflow:auto;\">\n",
       "<table border=\"1\" class=\"dataframe\">\n",
       "  <thead>\n",
       "    <tr style=\"text-align: right;\">\n",
       "      <th></th>\n",
       "      <th>user</th>\n",
       "      <th>age</th>\n",
       "      <th>f</th>\n",
       "      <th>m</th>\n",
       "      <th>sex-nan</th>\n",
       "      <th>Afghanistan</th>\n",
       "      <th>Albania</th>\n",
       "      <th>Algeria</th>\n",
       "      <th>American Samoa</th>\n",
       "      <th>Andorra</th>\n",
       "      <th>...</th>\n",
       "      <th>Virgin Islands, British</th>\n",
       "      <th>Virgin Islands, U.s.</th>\n",
       "      <th>Wallis and Futuna</th>\n",
       "      <th>Western Sahara</th>\n",
       "      <th>Yemen</th>\n",
       "      <th>Zambia</th>\n",
       "      <th>Zimbabwe</th>\n",
       "      <th>country-nan</th>\n",
       "      <th>age-nan</th>\n",
       "      <th>age-negative</th>\n",
       "    </tr>\n",
       "  </thead>\n",
       "  <tbody>\n",
       "    <tr>\n",
       "      <th>0</th>\n",
       "      <td> fa40b43298ba3f8aa52e8e8863faf2e2171e0b5d</td>\n",
       "      <td> 25</td>\n",
       "      <td> 1</td>\n",
       "      <td> 0</td>\n",
       "      <td> 0</td>\n",
       "      <td> 0</td>\n",
       "      <td> 0</td>\n",
       "      <td> 0</td>\n",
       "      <td> 0</td>\n",
       "      <td> 0</td>\n",
       "      <td>...</td>\n",
       "      <td> 0</td>\n",
       "      <td> 0</td>\n",
       "      <td> 0</td>\n",
       "      <td> 0</td>\n",
       "      <td> 0</td>\n",
       "      <td> 0</td>\n",
       "      <td> 0</td>\n",
       "      <td> 0</td>\n",
       "      <td> 0</td>\n",
       "      <td> 0</td>\n",
       "    </tr>\n",
       "    <tr>\n",
       "      <th>1</th>\n",
       "      <td> 5909125332c108365a26ccf0ee62636eee08215c</td>\n",
       "      <td> 29</td>\n",
       "      <td> 0</td>\n",
       "      <td> 1</td>\n",
       "      <td> 0</td>\n",
       "      <td> 0</td>\n",
       "      <td> 0</td>\n",
       "      <td> 0</td>\n",
       "      <td> 0</td>\n",
       "      <td> 0</td>\n",
       "      <td>...</td>\n",
       "      <td> 0</td>\n",
       "      <td> 0</td>\n",
       "      <td> 0</td>\n",
       "      <td> 0</td>\n",
       "      <td> 0</td>\n",
       "      <td> 0</td>\n",
       "      <td> 0</td>\n",
       "      <td> 0</td>\n",
       "      <td> 0</td>\n",
       "      <td> 0</td>\n",
       "    </tr>\n",
       "    <tr>\n",
       "      <th>2</th>\n",
       "      <td> d1867cbda35e0d48e9a8390d9f5e079c9d99ea96</td>\n",
       "      <td> 30</td>\n",
       "      <td> 0</td>\n",
       "      <td> 1</td>\n",
       "      <td> 0</td>\n",
       "      <td> 0</td>\n",
       "      <td> 0</td>\n",
       "      <td> 0</td>\n",
       "      <td> 0</td>\n",
       "      <td> 0</td>\n",
       "      <td>...</td>\n",
       "      <td> 0</td>\n",
       "      <td> 0</td>\n",
       "      <td> 0</td>\n",
       "      <td> 0</td>\n",
       "      <td> 0</td>\n",
       "      <td> 0</td>\n",
       "      <td> 0</td>\n",
       "      <td> 0</td>\n",
       "      <td> 0</td>\n",
       "      <td> 0</td>\n",
       "    </tr>\n",
       "    <tr>\n",
       "      <th>3</th>\n",
       "      <td> 63268cce0d68127729890c1691f62d5be5abd87c</td>\n",
       "      <td> 21</td>\n",
       "      <td> 0</td>\n",
       "      <td> 1</td>\n",
       "      <td> 0</td>\n",
       "      <td> 0</td>\n",
       "      <td> 0</td>\n",
       "      <td> 0</td>\n",
       "      <td> 0</td>\n",
       "      <td> 0</td>\n",
       "      <td>...</td>\n",
       "      <td> 0</td>\n",
       "      <td> 0</td>\n",
       "      <td> 0</td>\n",
       "      <td> 0</td>\n",
       "      <td> 0</td>\n",
       "      <td> 0</td>\n",
       "      <td> 0</td>\n",
       "      <td> 0</td>\n",
       "      <td> 0</td>\n",
       "      <td> 0</td>\n",
       "    </tr>\n",
       "    <tr>\n",
       "      <th>4</th>\n",
       "      <td> 02871cd952d607ba69b64e2e107773012c708113</td>\n",
       "      <td> 24</td>\n",
       "      <td> 0</td>\n",
       "      <td> 1</td>\n",
       "      <td> 0</td>\n",
       "      <td> 0</td>\n",
       "      <td> 0</td>\n",
       "      <td> 0</td>\n",
       "      <td> 0</td>\n",
       "      <td> 0</td>\n",
       "      <td>...</td>\n",
       "      <td> 0</td>\n",
       "      <td> 0</td>\n",
       "      <td> 0</td>\n",
       "      <td> 0</td>\n",
       "      <td> 0</td>\n",
       "      <td> 0</td>\n",
       "      <td> 0</td>\n",
       "      <td> 0</td>\n",
       "      <td> 0</td>\n",
       "      <td> 0</td>\n",
       "    </tr>\n",
       "  </tbody>\n",
       "</table>\n",
       "<p>5 rows × 247 columns</p>\n",
       "</div>"
      ],
      "text/plain": [
       "                                       user  age  f  m  sex-nan  Afghanistan  \\\n",
       "0  fa40b43298ba3f8aa52e8e8863faf2e2171e0b5d   25  1  0        0            0   \n",
       "1  5909125332c108365a26ccf0ee62636eee08215c   29  0  1        0            0   \n",
       "2  d1867cbda35e0d48e9a8390d9f5e079c9d99ea96   30  0  1        0            0   \n",
       "3  63268cce0d68127729890c1691f62d5be5abd87c   21  0  1        0            0   \n",
       "4  02871cd952d607ba69b64e2e107773012c708113   24  0  1        0            0   \n",
       "\n",
       "   Albania  Algeria  American Samoa  Andorra      ...       \\\n",
       "0        0        0               0        0      ...        \n",
       "1        0        0               0        0      ...        \n",
       "2        0        0               0        0      ...        \n",
       "3        0        0               0        0      ...        \n",
       "4        0        0               0        0      ...        \n",
       "\n",
       "   Virgin Islands, British  Virgin Islands, U.s.  Wallis and Futuna  \\\n",
       "0                        0                     0                  0   \n",
       "1                        0                     0                  0   \n",
       "2                        0                     0                  0   \n",
       "3                        0                     0                  0   \n",
       "4                        0                     0                  0   \n",
       "\n",
       "   Western Sahara  Yemen  Zambia  Zimbabwe  country-nan  age-nan  age-negative  \n",
       "0               0      0       0         0            0        0             0  \n",
       "1               0      0       0         0            0        0             0  \n",
       "2               0      0       0         0            0        0             0  \n",
       "3               0      0       0         0            0        0             0  \n",
       "4               0      0       0         0            0        0             0  \n",
       "\n",
       "[5 rows x 247 columns]"
      ]
     },
     "execution_count": 3,
     "metadata": {},
     "output_type": "execute_result"
    }
   ],
   "source": [
    "df = pd.concat([profiles_data, pd.get_dummies(profiles_data['sex'], dummy_na=True)], axis=1)\n",
    "df.rename(columns = lambda x: str(x), inplace=True)\n",
    "df.rename(columns={'nan': 'sex-nan'}, inplace=True)\n",
    "df = pd.concat([df, pd.get_dummies(df['country'], dummy_na=True)], axis=1)\n",
    "df.rename(columns = lambda x: str(x), inplace=True)\n",
    "df.rename(columns={'nan': 'country-nan'}, inplace=True)\n",
    "del df['sex']\n",
    "del df['country']\n",
    "df['age-nan'] = np.isnan(df['age']) * 1\n",
    "df['age-negative'] = (df['age'] < 0) * 1\n",
    "df.head()"
   ]
  },
  {
   "cell_type": "code",
   "execution_count": 38,
   "metadata": {
    "collapsed": false
   },
   "outputs": [],
   "source": [
    "#artists = set(train['artist'])\n",
    "#for artist in artists:\n",
    "#    df[artist] = np.nan\n",
    "#    for row in train.iterrows():\n",
    "#        if row[1]['artist'] == artist:\n",
    "#            df.loc[row[0],artist]=row[1]['plays']"
   ]
  },
  {
   "cell_type": "code",
   "execution_count": 255,
   "metadata": {
    "collapsed": false
   },
   "outputs": [
    {
     "data": {
      "text/html": [
       "<div style=\"max-height:1000px;max-width:1500px;overflow:auto;\">\n",
       "<table border=\"1\" class=\"dataframe\">\n",
       "  <thead>\n",
       "    <tr style=\"text-align: right;\">\n",
       "      <th></th>\n",
       "      <th>user</th>\n",
       "      <th>age</th>\n",
       "      <th>f</th>\n",
       "      <th>m</th>\n",
       "      <th>sex-nan</th>\n",
       "      <th>Afghanistan</th>\n",
       "      <th>Albania</th>\n",
       "      <th>Algeria</th>\n",
       "      <th>American Samoa</th>\n",
       "      <th>Andorra</th>\n",
       "      <th>...</th>\n",
       "      <th>Virgin Islands, British</th>\n",
       "      <th>Virgin Islands, U.s.</th>\n",
       "      <th>Wallis and Futuna</th>\n",
       "      <th>Western Sahara</th>\n",
       "      <th>Yemen</th>\n",
       "      <th>Zambia</th>\n",
       "      <th>Zimbabwe</th>\n",
       "      <th>country-nan</th>\n",
       "      <th>age-nan</th>\n",
       "      <th>age-negative</th>\n",
       "    </tr>\n",
       "  </thead>\n",
       "  <tbody>\n",
       "    <tr>\n",
       "      <th>0</th>\n",
       "      <td> fa40b43298ba3f8aa52e8e8863faf2e2171e0b5d</td>\n",
       "      <td> 25</td>\n",
       "      <td> 1</td>\n",
       "      <td> 0</td>\n",
       "      <td> 0</td>\n",
       "      <td> 0</td>\n",
       "      <td> 0</td>\n",
       "      <td> 0</td>\n",
       "      <td> 0</td>\n",
       "      <td> 0</td>\n",
       "      <td>...</td>\n",
       "      <td> 0</td>\n",
       "      <td> 0</td>\n",
       "      <td> 0</td>\n",
       "      <td> 0</td>\n",
       "      <td> 0</td>\n",
       "      <td> 0</td>\n",
       "      <td> 0</td>\n",
       "      <td> 0</td>\n",
       "      <td> 0</td>\n",
       "      <td> 0</td>\n",
       "    </tr>\n",
       "    <tr>\n",
       "      <th>1</th>\n",
       "      <td> 5909125332c108365a26ccf0ee62636eee08215c</td>\n",
       "      <td> 29</td>\n",
       "      <td> 0</td>\n",
       "      <td> 1</td>\n",
       "      <td> 0</td>\n",
       "      <td> 0</td>\n",
       "      <td> 0</td>\n",
       "      <td> 0</td>\n",
       "      <td> 0</td>\n",
       "      <td> 0</td>\n",
       "      <td>...</td>\n",
       "      <td> 0</td>\n",
       "      <td> 0</td>\n",
       "      <td> 0</td>\n",
       "      <td> 0</td>\n",
       "      <td> 0</td>\n",
       "      <td> 0</td>\n",
       "      <td> 0</td>\n",
       "      <td> 0</td>\n",
       "      <td> 0</td>\n",
       "      <td> 0</td>\n",
       "    </tr>\n",
       "    <tr>\n",
       "      <th>2</th>\n",
       "      <td> d1867cbda35e0d48e9a8390d9f5e079c9d99ea96</td>\n",
       "      <td> 30</td>\n",
       "      <td> 0</td>\n",
       "      <td> 1</td>\n",
       "      <td> 0</td>\n",
       "      <td> 0</td>\n",
       "      <td> 0</td>\n",
       "      <td> 0</td>\n",
       "      <td> 0</td>\n",
       "      <td> 0</td>\n",
       "      <td>...</td>\n",
       "      <td> 0</td>\n",
       "      <td> 0</td>\n",
       "      <td> 0</td>\n",
       "      <td> 0</td>\n",
       "      <td> 0</td>\n",
       "      <td> 0</td>\n",
       "      <td> 0</td>\n",
       "      <td> 0</td>\n",
       "      <td> 0</td>\n",
       "      <td> 0</td>\n",
       "    </tr>\n",
       "    <tr>\n",
       "      <th>3</th>\n",
       "      <td> 63268cce0d68127729890c1691f62d5be5abd87c</td>\n",
       "      <td> 21</td>\n",
       "      <td> 0</td>\n",
       "      <td> 1</td>\n",
       "      <td> 0</td>\n",
       "      <td> 0</td>\n",
       "      <td> 0</td>\n",
       "      <td> 0</td>\n",
       "      <td> 0</td>\n",
       "      <td> 0</td>\n",
       "      <td>...</td>\n",
       "      <td> 0</td>\n",
       "      <td> 0</td>\n",
       "      <td> 0</td>\n",
       "      <td> 0</td>\n",
       "      <td> 0</td>\n",
       "      <td> 0</td>\n",
       "      <td> 0</td>\n",
       "      <td> 0</td>\n",
       "      <td> 0</td>\n",
       "      <td> 0</td>\n",
       "    </tr>\n",
       "    <tr>\n",
       "      <th>4</th>\n",
       "      <td> 02871cd952d607ba69b64e2e107773012c708113</td>\n",
       "      <td> 24</td>\n",
       "      <td> 0</td>\n",
       "      <td> 1</td>\n",
       "      <td> 0</td>\n",
       "      <td> 0</td>\n",
       "      <td> 0</td>\n",
       "      <td> 0</td>\n",
       "      <td> 0</td>\n",
       "      <td> 0</td>\n",
       "      <td>...</td>\n",
       "      <td> 0</td>\n",
       "      <td> 0</td>\n",
       "      <td> 0</td>\n",
       "      <td> 0</td>\n",
       "      <td> 0</td>\n",
       "      <td> 0</td>\n",
       "      <td> 0</td>\n",
       "      <td> 0</td>\n",
       "      <td> 0</td>\n",
       "      <td> 0</td>\n",
       "    </tr>\n",
       "  </tbody>\n",
       "</table>\n",
       "<p>5 rows × 247 columns</p>\n",
       "</div>"
      ],
      "text/plain": [
       "                                       user  age  f  m  sex-nan  Afghanistan  \\\n",
       "0  fa40b43298ba3f8aa52e8e8863faf2e2171e0b5d   25  1  0        0            0   \n",
       "1  5909125332c108365a26ccf0ee62636eee08215c   29  0  1        0            0   \n",
       "2  d1867cbda35e0d48e9a8390d9f5e079c9d99ea96   30  0  1        0            0   \n",
       "3  63268cce0d68127729890c1691f62d5be5abd87c   21  0  1        0            0   \n",
       "4  02871cd952d607ba69b64e2e107773012c708113   24  0  1        0            0   \n",
       "\n",
       "   Albania  Algeria  American Samoa  Andorra      ...       \\\n",
       "0        0        0               0        0      ...        \n",
       "1        0        0               0        0      ...        \n",
       "2        0        0               0        0      ...        \n",
       "3        0        0               0        0      ...        \n",
       "4        0        0               0        0      ...        \n",
       "\n",
       "   Virgin Islands, British  Virgin Islands, U.s.  Wallis and Futuna  \\\n",
       "0                        0                     0                  0   \n",
       "1                        0                     0                  0   \n",
       "2                        0                     0                  0   \n",
       "3                        0                     0                  0   \n",
       "4                        0                     0                  0   \n",
       "\n",
       "   Western Sahara  Yemen  Zambia  Zimbabwe  country-nan  age-nan  age-negative  \n",
       "0               0      0       0         0            0        0             0  \n",
       "1               0      0       0         0            0        0             0  \n",
       "2               0      0       0         0            0        0             0  \n",
       "3               0      0       0         0            0        0             0  \n",
       "4               0      0       0         0            0        0             0  \n",
       "\n",
       "[5 rows x 247 columns]"
      ]
     },
     "execution_count": 255,
     "metadata": {},
     "output_type": "execute_result"
    }
   ],
   "source": [
    "#train_set_unstacked.head()['plays']\n",
    "df.head()"
   ]
  },
  {
   "cell_type": "code",
   "execution_count": 252,
   "metadata": {
    "collapsed": false
   },
   "outputs": [
    {
     "ename": "MergeError",
     "evalue": "No common columns to perform merge on",
     "output_type": "error",
     "traceback": [
      "\u001b[0;31m---------------------------------------------------------------------------\u001b[0m",
      "\u001b[0;31mMergeError\u001b[0m                                Traceback (most recent call last)",
      "\u001b[0;32m<ipython-input-252-4db18d54ff0b>\u001b[0m in \u001b[0;36m<module>\u001b[0;34m()\u001b[0m\n\u001b[1;32m      2\u001b[0m \u001b[0;31m#for artist in artists:\u001b[0m\u001b[0;34m\u001b[0m\u001b[0;34m\u001b[0m\u001b[0m\n\u001b[1;32m      3\u001b[0m \u001b[0;31m#    df[artist] = np.nan\u001b[0m\u001b[0;34m\u001b[0m\u001b[0;34m\u001b[0m\u001b[0m\n\u001b[0;32m----> 4\u001b[0;31m \u001b[0mmerged_data\u001b[0m \u001b[0;34m=\u001b[0m \u001b[0mdf\u001b[0m\u001b[0;34m.\u001b[0m\u001b[0mmerge\u001b[0m\u001b[0;34m(\u001b[0m\u001b[0mtrain_set_unstacked\u001b[0m\u001b[0;34m[\u001b[0m\u001b[0;34m'plays'\u001b[0m\u001b[0;34m]\u001b[0m\u001b[0;34m)\u001b[0m\u001b[0;34m\u001b[0m\u001b[0m\n\u001b[0m\u001b[1;32m      5\u001b[0m \u001b[0mmerged_data\u001b[0m\u001b[0;34m.\u001b[0m\u001b[0mhead\u001b[0m\u001b[0;34m(\u001b[0m\u001b[0;34m)\u001b[0m\u001b[0;34m\u001b[0m\u001b[0m\n",
      "\u001b[0;32m/Users/Dana/anaconda/lib/python2.7/site-packages/pandas/core/frame.pyc\u001b[0m in \u001b[0;36mmerge\u001b[0;34m(self, right, how, on, left_on, right_on, left_index, right_index, sort, suffixes, copy)\u001b[0m\n\u001b[1;32m   3917\u001b[0m                      \u001b[0mleft_on\u001b[0m\u001b[0;34m=\u001b[0m\u001b[0mleft_on\u001b[0m\u001b[0;34m,\u001b[0m \u001b[0mright_on\u001b[0m\u001b[0;34m=\u001b[0m\u001b[0mright_on\u001b[0m\u001b[0;34m,\u001b[0m\u001b[0;34m\u001b[0m\u001b[0m\n\u001b[1;32m   3918\u001b[0m                      \u001b[0mleft_index\u001b[0m\u001b[0;34m=\u001b[0m\u001b[0mleft_index\u001b[0m\u001b[0;34m,\u001b[0m \u001b[0mright_index\u001b[0m\u001b[0;34m=\u001b[0m\u001b[0mright_index\u001b[0m\u001b[0;34m,\u001b[0m \u001b[0msort\u001b[0m\u001b[0;34m=\u001b[0m\u001b[0msort\u001b[0m\u001b[0;34m,\u001b[0m\u001b[0;34m\u001b[0m\u001b[0m\n\u001b[0;32m-> 3919\u001b[0;31m                      suffixes=suffixes, copy=copy)\n\u001b[0m\u001b[1;32m   3920\u001b[0m \u001b[0;34m\u001b[0m\u001b[0m\n\u001b[1;32m   3921\u001b[0m     \u001b[0;31m#----------------------------------------------------------------------\u001b[0m\u001b[0;34m\u001b[0m\u001b[0;34m\u001b[0m\u001b[0m\n",
      "\u001b[0;32m/Users/Dana/anaconda/lib/python2.7/site-packages/pandas/tools/merge.pyc\u001b[0m in \u001b[0;36mmerge\u001b[0;34m(left, right, how, on, left_on, right_on, left_index, right_index, sort, suffixes, copy)\u001b[0m\n\u001b[1;32m     36\u001b[0m                          \u001b[0mright_on\u001b[0m\u001b[0;34m=\u001b[0m\u001b[0mright_on\u001b[0m\u001b[0;34m,\u001b[0m \u001b[0mleft_index\u001b[0m\u001b[0;34m=\u001b[0m\u001b[0mleft_index\u001b[0m\u001b[0;34m,\u001b[0m\u001b[0;34m\u001b[0m\u001b[0m\n\u001b[1;32m     37\u001b[0m                          \u001b[0mright_index\u001b[0m\u001b[0;34m=\u001b[0m\u001b[0mright_index\u001b[0m\u001b[0;34m,\u001b[0m \u001b[0msort\u001b[0m\u001b[0;34m=\u001b[0m\u001b[0msort\u001b[0m\u001b[0;34m,\u001b[0m \u001b[0msuffixes\u001b[0m\u001b[0;34m=\u001b[0m\u001b[0msuffixes\u001b[0m\u001b[0;34m,\u001b[0m\u001b[0;34m\u001b[0m\u001b[0m\n\u001b[0;32m---> 38\u001b[0;31m                          copy=copy)\n\u001b[0m\u001b[1;32m     39\u001b[0m     \u001b[0;32mreturn\u001b[0m \u001b[0mop\u001b[0m\u001b[0;34m.\u001b[0m\u001b[0mget_result\u001b[0m\u001b[0;34m(\u001b[0m\u001b[0;34m)\u001b[0m\u001b[0;34m\u001b[0m\u001b[0m\n\u001b[1;32m     40\u001b[0m \u001b[0;32mif\u001b[0m \u001b[0m__debug__\u001b[0m\u001b[0;34m:\u001b[0m\u001b[0;34m\u001b[0m\u001b[0m\n",
      "\u001b[0;32m/Users/Dana/anaconda/lib/python2.7/site-packages/pandas/tools/merge.pyc\u001b[0m in \u001b[0;36m__init__\u001b[0;34m(self, left, right, how, on, left_on, right_on, axis, left_index, right_index, sort, suffixes, copy)\u001b[0m\n\u001b[1;32m    182\u001b[0m         (self.left_join_keys,\n\u001b[1;32m    183\u001b[0m          \u001b[0mself\u001b[0m\u001b[0;34m.\u001b[0m\u001b[0mright_join_keys\u001b[0m\u001b[0;34m,\u001b[0m\u001b[0;34m\u001b[0m\u001b[0m\n\u001b[0;32m--> 184\u001b[0;31m          self.join_names) = self._get_merge_keys()\n\u001b[0m\u001b[1;32m    185\u001b[0m \u001b[0;34m\u001b[0m\u001b[0m\n\u001b[1;32m    186\u001b[0m     \u001b[0;32mdef\u001b[0m \u001b[0mget_result\u001b[0m\u001b[0;34m(\u001b[0m\u001b[0mself\u001b[0m\u001b[0;34m)\u001b[0m\u001b[0;34m:\u001b[0m\u001b[0;34m\u001b[0m\u001b[0m\n",
      "\u001b[0;32m/Users/Dana/anaconda/lib/python2.7/site-packages/pandas/tools/merge.pyc\u001b[0m in \u001b[0;36m_get_merge_keys\u001b[0;34m(self)\u001b[0m\n\u001b[1;32m    317\u001b[0m         \u001b[0mleft_keys\u001b[0m\u001b[0;34m,\u001b[0m \u001b[0mright_keys\u001b[0m\u001b[0;34m\u001b[0m\u001b[0m\n\u001b[1;32m    318\u001b[0m         \"\"\"\n\u001b[0;32m--> 319\u001b[0;31m         \u001b[0mself\u001b[0m\u001b[0;34m.\u001b[0m\u001b[0m_validate_specification\u001b[0m\u001b[0;34m(\u001b[0m\u001b[0;34m)\u001b[0m\u001b[0;34m\u001b[0m\u001b[0m\n\u001b[0m\u001b[1;32m    320\u001b[0m \u001b[0;34m\u001b[0m\u001b[0m\n\u001b[1;32m    321\u001b[0m         \u001b[0mleft_keys\u001b[0m \u001b[0;34m=\u001b[0m \u001b[0;34m[\u001b[0m\u001b[0;34m]\u001b[0m\u001b[0;34m\u001b[0m\u001b[0m\n",
      "\u001b[0;32m/Users/Dana/anaconda/lib/python2.7/site-packages/pandas/tools/merge.pyc\u001b[0m in \u001b[0;36m_validate_specification\u001b[0;34m(self)\u001b[0m\n\u001b[1;32m    416\u001b[0m                     self.right.columns)\n\u001b[1;32m    417\u001b[0m                 \u001b[0;32mif\u001b[0m \u001b[0mlen\u001b[0m\u001b[0;34m(\u001b[0m\u001b[0mcommon_cols\u001b[0m\u001b[0;34m)\u001b[0m \u001b[0;34m==\u001b[0m \u001b[0;36m0\u001b[0m\u001b[0;34m:\u001b[0m\u001b[0;34m\u001b[0m\u001b[0m\n\u001b[0;32m--> 418\u001b[0;31m                     \u001b[0;32mraise\u001b[0m \u001b[0mMergeError\u001b[0m\u001b[0;34m(\u001b[0m\u001b[0;34m'No common columns to perform merge on'\u001b[0m\u001b[0;34m)\u001b[0m\u001b[0;34m\u001b[0m\u001b[0m\n\u001b[0m\u001b[1;32m    419\u001b[0m                 \u001b[0mself\u001b[0m\u001b[0;34m.\u001b[0m\u001b[0mleft_on\u001b[0m \u001b[0;34m=\u001b[0m \u001b[0mself\u001b[0m\u001b[0;34m.\u001b[0m\u001b[0mright_on\u001b[0m \u001b[0;34m=\u001b[0m \u001b[0mcommon_cols\u001b[0m\u001b[0;34m\u001b[0m\u001b[0m\n\u001b[1;32m    420\u001b[0m         \u001b[0;32melif\u001b[0m \u001b[0mself\u001b[0m\u001b[0;34m.\u001b[0m\u001b[0mon\u001b[0m \u001b[0;32mis\u001b[0m \u001b[0;32mnot\u001b[0m \u001b[0mNone\u001b[0m\u001b[0;34m:\u001b[0m\u001b[0;34m\u001b[0m\u001b[0m\n",
      "\u001b[0;31mMergeError\u001b[0m: No common columns to perform merge on"
     ]
    }
   ],
   "source": [
    "#artists = set(train['artist'])\n",
    "#for artist in artists:\n",
    "#    df[artist] = np.nan\n",
    "merged_data = df.merge(train_set_unstacked['plays'])\n",
    "merged_data.head()"
   ]
  },
  {
   "cell_type": "code",
   "execution_count": 16,
   "metadata": {
    "collapsed": false
   },
   "outputs": [
    {
     "data": {
      "text/html": [
       "<div style=\"max-height:1000px;max-width:1500px;overflow:auto;\">\n",
       "<table border=\"1\" class=\"dataframe\">\n",
       "  <thead>\n",
       "    <tr style=\"text-align: right;\">\n",
       "      <th></th>\n",
       "      <th>user</th>\n",
       "      <th>age</th>\n",
       "      <th>f</th>\n",
       "      <th>m</th>\n",
       "      <th>sex-nan</th>\n",
       "      <th>Afghanistan</th>\n",
       "      <th>Albania</th>\n",
       "      <th>Algeria</th>\n",
       "      <th>American Samoa</th>\n",
       "      <th>Andorra</th>\n",
       "      <th>...</th>\n",
       "      <th>Virgin Islands, British</th>\n",
       "      <th>Virgin Islands, U.s.</th>\n",
       "      <th>Wallis and Futuna</th>\n",
       "      <th>Western Sahara</th>\n",
       "      <th>Yemen</th>\n",
       "      <th>Zambia</th>\n",
       "      <th>Zimbabwe</th>\n",
       "      <th>country-nan</th>\n",
       "      <th>Id</th>\n",
       "      <th>artist</th>\n",
       "    </tr>\n",
       "  </thead>\n",
       "  <tbody>\n",
       "    <tr>\n",
       "      <th>0</th>\n",
       "      <td> fa40b43298ba3f8aa52e8e8863faf2e2171e0b5d</td>\n",
       "      <td> 25</td>\n",
       "      <td> 1</td>\n",
       "      <td> 0</td>\n",
       "      <td> 0</td>\n",
       "      <td> 0</td>\n",
       "      <td> 0</td>\n",
       "      <td> 0</td>\n",
       "      <td> 0</td>\n",
       "      <td> 0</td>\n",
       "      <td>...</td>\n",
       "      <td> 0</td>\n",
       "      <td> 0</td>\n",
       "      <td> 0</td>\n",
       "      <td> 0</td>\n",
       "      <td> 0</td>\n",
       "      <td> 0</td>\n",
       "      <td> 0</td>\n",
       "      <td> 0</td>\n",
       "      <td>  42832</td>\n",
       "      <td> 144ef525-85e9-40c3-8335-02c32d0861f3</td>\n",
       "    </tr>\n",
       "    <tr>\n",
       "      <th>1</th>\n",
       "      <td> fa40b43298ba3f8aa52e8e8863faf2e2171e0b5d</td>\n",
       "      <td> 25</td>\n",
       "      <td> 1</td>\n",
       "      <td> 0</td>\n",
       "      <td> 0</td>\n",
       "      <td> 0</td>\n",
       "      <td> 0</td>\n",
       "      <td> 0</td>\n",
       "      <td> 0</td>\n",
       "      <td> 0</td>\n",
       "      <td>...</td>\n",
       "      <td> 0</td>\n",
       "      <td> 0</td>\n",
       "      <td> 0</td>\n",
       "      <td> 0</td>\n",
       "      <td> 0</td>\n",
       "      <td> 0</td>\n",
       "      <td> 0</td>\n",
       "      <td> 0</td>\n",
       "      <td> 324382</td>\n",
       "      <td> fbb375f9-48bb-4635-824e-4120273b3ba7</td>\n",
       "    </tr>\n",
       "    <tr>\n",
       "      <th>2</th>\n",
       "      <td> fa40b43298ba3f8aa52e8e8863faf2e2171e0b5d</td>\n",
       "      <td> 25</td>\n",
       "      <td> 1</td>\n",
       "      <td> 0</td>\n",
       "      <td> 0</td>\n",
       "      <td> 0</td>\n",
       "      <td> 0</td>\n",
       "      <td> 0</td>\n",
       "      <td> 0</td>\n",
       "      <td> 0</td>\n",
       "      <td>...</td>\n",
       "      <td> 0</td>\n",
       "      <td> 0</td>\n",
       "      <td> 0</td>\n",
       "      <td> 0</td>\n",
       "      <td> 0</td>\n",
       "      <td> 0</td>\n",
       "      <td> 0</td>\n",
       "      <td> 0</td>\n",
       "      <td> 499045</td>\n",
       "      <td> d43d12a1-2dc9-4257-a2fd-0a3bb1081b86</td>\n",
       "    </tr>\n",
       "    <tr>\n",
       "      <th>3</th>\n",
       "      <td> fa40b43298ba3f8aa52e8e8863faf2e2171e0b5d</td>\n",
       "      <td> 25</td>\n",
       "      <td> 1</td>\n",
       "      <td> 0</td>\n",
       "      <td> 0</td>\n",
       "      <td> 0</td>\n",
       "      <td> 0</td>\n",
       "      <td> 0</td>\n",
       "      <td> 0</td>\n",
       "      <td> 0</td>\n",
       "      <td>...</td>\n",
       "      <td> 0</td>\n",
       "      <td> 0</td>\n",
       "      <td> 0</td>\n",
       "      <td> 0</td>\n",
       "      <td> 0</td>\n",
       "      <td> 0</td>\n",
       "      <td> 0</td>\n",
       "      <td> 0</td>\n",
       "      <td> 706071</td>\n",
       "      <td> ea4dfa26-f633-4da6-a52a-f49ea4897b58</td>\n",
       "    </tr>\n",
       "    <tr>\n",
       "      <th>4</th>\n",
       "      <td> fa40b43298ba3f8aa52e8e8863faf2e2171e0b5d</td>\n",
       "      <td> 25</td>\n",
       "      <td> 1</td>\n",
       "      <td> 0</td>\n",
       "      <td> 0</td>\n",
       "      <td> 0</td>\n",
       "      <td> 0</td>\n",
       "      <td> 0</td>\n",
       "      <td> 0</td>\n",
       "      <td> 0</td>\n",
       "      <td>...</td>\n",
       "      <td> 0</td>\n",
       "      <td> 0</td>\n",
       "      <td> 0</td>\n",
       "      <td> 0</td>\n",
       "      <td> 0</td>\n",
       "      <td> 0</td>\n",
       "      <td> 0</td>\n",
       "      <td> 0</td>\n",
       "      <td> 737504</td>\n",
       "      <td> cc7d4686-ea02-45fd-956e-94c1a322558c</td>\n",
       "    </tr>\n",
       "  </tbody>\n",
       "</table>\n",
       "<p>5 rows × 247 columns</p>\n",
       "</div>"
      ],
      "text/plain": [
       "                                       user  age  f  m  sex-nan  Afghanistan  \\\n",
       "0  fa40b43298ba3f8aa52e8e8863faf2e2171e0b5d   25  1  0        0            0   \n",
       "1  fa40b43298ba3f8aa52e8e8863faf2e2171e0b5d   25  1  0        0            0   \n",
       "2  fa40b43298ba3f8aa52e8e8863faf2e2171e0b5d   25  1  0        0            0   \n",
       "3  fa40b43298ba3f8aa52e8e8863faf2e2171e0b5d   25  1  0        0            0   \n",
       "4  fa40b43298ba3f8aa52e8e8863faf2e2171e0b5d   25  1  0        0            0   \n",
       "\n",
       "   Albania  Algeria  American Samoa  Andorra  \\\n",
       "0        0        0               0        0   \n",
       "1        0        0               0        0   \n",
       "2        0        0               0        0   \n",
       "3        0        0               0        0   \n",
       "4        0        0               0        0   \n",
       "\n",
       "                   ...                   Virgin Islands, British  \\\n",
       "0                  ...                                         0   \n",
       "1                  ...                                         0   \n",
       "2                  ...                                         0   \n",
       "3                  ...                                         0   \n",
       "4                  ...                                         0   \n",
       "\n",
       "   Virgin Islands, U.s.  Wallis and Futuna  Western Sahara  Yemen  Zambia  \\\n",
       "0                     0                  0               0      0       0   \n",
       "1                     0                  0               0      0       0   \n",
       "2                     0                  0               0      0       0   \n",
       "3                     0                  0               0      0       0   \n",
       "4                     0                  0               0      0       0   \n",
       "\n",
       "   Zimbabwe  country-nan      Id                                artist  \n",
       "0         0            0   42832  144ef525-85e9-40c3-8335-02c32d0861f3  \n",
       "1         0            0  324382  fbb375f9-48bb-4635-824e-4120273b3ba7  \n",
       "2         0            0  499045  d43d12a1-2dc9-4257-a2fd-0a3bb1081b86  \n",
       "3         0            0  706071  ea4dfa26-f633-4da6-a52a-f49ea4897b58  \n",
       "4         0            0  737504  cc7d4686-ea02-45fd-956e-94c1a322558c  \n",
       "\n",
       "[5 rows x 247 columns]"
      ]
     },
     "execution_count": 16,
     "metadata": {},
     "output_type": "execute_result"
    }
   ],
   "source": [
    "merged_data_test = df.merge(test)\n",
    "merged_data_test.head()"
   ]
  },
  {
   "cell_type": "code",
   "execution_count": 9,
   "metadata": {
    "collapsed": false
   },
   "outputs": [],
   "source": [
    "user_dict = {}\n",
    "for i in train['user']:\n",
    "    user_dict[i] = {}\n",
    "    \n",
    "for i in train['user']:\n",
    "    x = train.loc[train['user'] == i]\n",
    "    for j in x:\n",
    "        user_dict[i] = dict(zip(x.artist, x.plays))\n",
    "        \n",
    "testdf = pd.DataFrame.from_dict(user_dict, orient='index')\n",
    "where_are_NaNs = np.isnan(testdf)\n",
    "testdf[where_are_NaNs] = 0"
   ]
  },
  {
   "cell_type": "code",
   "execution_count": 8,
   "metadata": {
    "collapsed": true
   },
   "outputs": [],
   "source": [
    "X_train = merged_data[merged_data.columns[:246]]\n",
    "Y_train = merged_data[merged_data.columns[246]]\n",
    "X_test = merged_data[merged_data.columns[:246]]"
   ]
  },
  {
   "cell_type": "code",
   "execution_count": null,
   "metadata": {
    "collapsed": false
   },
   "outputs": [],
   "source": [
    "regr = linear_model.LinearRegression()\n",
    "regr.fit(X_train, Y_train)"
   ]
  },
  {
   "cell_type": "code",
   "execution_count": 18,
   "metadata": {
    "collapsed": false
   },
   "outputs": [],
   "source": [
    "# Merge Training Data with profiles_data Data\n",
    "merged = profiles_data.merge(train)"
   ]
  },
  {
   "cell_type": "code",
   "execution_count": 182,
   "metadata": {
    "collapsed": false
   },
   "outputs": [
    {
     "name": "stderr",
     "output_type": "stream",
     "text": [
      "/Users/Dana/anaconda/lib/python2.7/site-packages/IPython/kernel/__main__.py:15: SettingWithCopyWarning: \n",
      "A value is trying to be set on a copy of a slice from a DataFrame.\n",
      "Try using .loc[row_indexer,col_indexer] = value instead\n",
      "\n",
      "See the the caveats in the documentation: http://pandas.pydata.org/pandas-docs/stable/indexing.html#indexing-view-versus-copy\n",
      "/Users/Dana/anaconda/lib/python2.7/site-packages/IPython/kernel/__main__.py:18: SettingWithCopyWarning: \n",
      "A value is trying to be set on a copy of a slice from a DataFrame.\n",
      "Try using .loc[row_indexer,col_indexer] = value instead\n",
      "\n",
      "See the the caveats in the documentation: http://pandas.pydata.org/pandas-docs/stable/indexing.html#indexing-view-versus-copy\n",
      "/Users/Dana/anaconda/lib/python2.7/site-packages/IPython/kernel/__main__.py:21: SettingWithCopyWarning: \n",
      "A value is trying to be set on a copy of a slice from a DataFrame.\n",
      "Try using .loc[row_indexer,col_indexer] = value instead\n",
      "\n",
      "See the the caveats in the documentation: http://pandas.pydata.org/pandas-docs/stable/indexing.html#indexing-view-versus-copy\n"
     ]
    }
   ],
   "source": [
    "# Dealing with Missing Data:  Naive Approach, complete cases\n",
    "train = pd.read_csv('train.csv')\n",
    "profiles_new = profiles_data.dropna()\n",
    "\n",
    "merged_data = profiles_new.merge(train)\n",
    "#merged_data1 = profiles_data.merge(train)\n",
    "\n",
    "# Turn merged data into X_train and Y_train\n",
    "X_train = merged_data[merged_data.columns[:5]]\n",
    "Y_train = merged_data[merged_data.columns[5]]\n",
    "\n",
    "# Encode artists using preprossing\n",
    "le = preprocessing.LabelEncoder()\n",
    "le.fit(X_train['artist'])\n",
    "X_train['artist_code'] = le.transform(X_train['artist'])\n",
    "\n",
    "le.fit(X_train['country'])\n",
    "X_train['country_code'] = le.transform(X_train['country'])\n",
    "\n",
    "le.fit(X_train['sex'])\n",
    "X_train['sex'] = le.transform(X_train['sex'])"
   ]
  },
  {
   "cell_type": "code",
   "execution_count": 183,
   "metadata": {
    "collapsed": false
   },
   "outputs": [],
   "source": [
    "X_train = X_train.drop('artist', 1)\n",
    "X_train = X_train.drop('country', 1)\n",
    "X_train = X_train.drop('sex', 1)"
   ]
  },
  {
   "cell_type": "code",
   "execution_count": 17,
   "metadata": {
    "collapsed": false
   },
   "outputs": [],
   "source": [
    "rf = RandomForestClassifier(n_estimators=1,min_samples_split=5,random_state=4)\n",
    "rf.fit(X_train, Y_train)"
   ]
  },
  {
   "cell_type": "code",
   "execution_count": 81,
   "metadata": {
    "collapsed": false
   },
   "outputs": [],
   "source": [
    "filename1 = 'X_train.p'\n",
    "pickle.dump(df, io.open(filename1, 'wb'))"
   ]
  },
  {
   "cell_type": "code",
   "execution_count": null,
   "metadata": {
    "collapsed": true
   },
   "outputs": [],
   "source": []
  },
  {
   "cell_type": "code",
   "execution_count": 38,
   "metadata": {
    "collapsed": false
   },
   "outputs": [
    {
     "data": {
      "text/plain": [
       "697"
      ]
     },
     "execution_count": 38,
     "metadata": {},
     "output_type": "execute_result"
    }
   ],
   "source": [
    "sum(merged_data['age-negative'])"
   ]
  },
  {
   "cell_type": "code",
   "execution_count": 50,
   "metadata": {
    "collapsed": false
   },
   "outputs": [
    {
     "data": {
      "text/html": [
       "<div style=\"max-height:1000px;max-width:1500px;overflow:auto;\">\n",
       "<table border=\"1\" class=\"dataframe\">\n",
       "  <thead>\n",
       "    <tr style=\"text-align: right;\">\n",
       "      <th></th>\n",
       "      <th>user</th>\n",
       "      <th>age</th>\n",
       "      <th>f</th>\n",
       "      <th>m</th>\n",
       "      <th>sex-nan</th>\n",
       "      <th>Afghanistan</th>\n",
       "      <th>Albania</th>\n",
       "      <th>Algeria</th>\n",
       "      <th>American Samoa</th>\n",
       "      <th>Andorra</th>\n",
       "      <th>...</th>\n",
       "      <th>Virgin Islands, British</th>\n",
       "      <th>Virgin Islands, U.s.</th>\n",
       "      <th>Wallis and Futuna</th>\n",
       "      <th>Western Sahara</th>\n",
       "      <th>Yemen</th>\n",
       "      <th>Zambia</th>\n",
       "      <th>Zimbabwe</th>\n",
       "      <th>country-nan</th>\n",
       "      <th>age-nan</th>\n",
       "      <th>age-negative</th>\n",
       "    </tr>\n",
       "  </thead>\n",
       "  <tbody>\n",
       "    <tr>\n",
       "      <th>0</th>\n",
       "      <td> fa40b43298ba3f8aa52e8e8863faf2e2171e0b5d</td>\n",
       "      <td> 25</td>\n",
       "      <td> 1</td>\n",
       "      <td> 0</td>\n",
       "      <td> 0</td>\n",
       "      <td> 0</td>\n",
       "      <td> 0</td>\n",
       "      <td> 0</td>\n",
       "      <td> 0</td>\n",
       "      <td> 0</td>\n",
       "      <td>...</td>\n",
       "      <td> 0</td>\n",
       "      <td> 0</td>\n",
       "      <td> 0</td>\n",
       "      <td> 0</td>\n",
       "      <td> 0</td>\n",
       "      <td> 0</td>\n",
       "      <td> 0</td>\n",
       "      <td> 0</td>\n",
       "      <td> 0</td>\n",
       "      <td> 0</td>\n",
       "    </tr>\n",
       "    <tr>\n",
       "      <th>1</th>\n",
       "      <td> fa40b43298ba3f8aa52e8e8863faf2e2171e0b5d</td>\n",
       "      <td> 25</td>\n",
       "      <td> 1</td>\n",
       "      <td> 0</td>\n",
       "      <td> 0</td>\n",
       "      <td> 0</td>\n",
       "      <td> 0</td>\n",
       "      <td> 0</td>\n",
       "      <td> 0</td>\n",
       "      <td> 0</td>\n",
       "      <td>...</td>\n",
       "      <td> 0</td>\n",
       "      <td> 0</td>\n",
       "      <td> 0</td>\n",
       "      <td> 0</td>\n",
       "      <td> 0</td>\n",
       "      <td> 0</td>\n",
       "      <td> 0</td>\n",
       "      <td> 0</td>\n",
       "      <td> 0</td>\n",
       "      <td> 0</td>\n",
       "    </tr>\n",
       "    <tr>\n",
       "      <th>2</th>\n",
       "      <td> fa40b43298ba3f8aa52e8e8863faf2e2171e0b5d</td>\n",
       "      <td> 25</td>\n",
       "      <td> 1</td>\n",
       "      <td> 0</td>\n",
       "      <td> 0</td>\n",
       "      <td> 0</td>\n",
       "      <td> 0</td>\n",
       "      <td> 0</td>\n",
       "      <td> 0</td>\n",
       "      <td> 0</td>\n",
       "      <td>...</td>\n",
       "      <td> 0</td>\n",
       "      <td> 0</td>\n",
       "      <td> 0</td>\n",
       "      <td> 0</td>\n",
       "      <td> 0</td>\n",
       "      <td> 0</td>\n",
       "      <td> 0</td>\n",
       "      <td> 0</td>\n",
       "      <td> 0</td>\n",
       "      <td> 0</td>\n",
       "    </tr>\n",
       "    <tr>\n",
       "      <th>3</th>\n",
       "      <td> fa40b43298ba3f8aa52e8e8863faf2e2171e0b5d</td>\n",
       "      <td> 25</td>\n",
       "      <td> 1</td>\n",
       "      <td> 0</td>\n",
       "      <td> 0</td>\n",
       "      <td> 0</td>\n",
       "      <td> 0</td>\n",
       "      <td> 0</td>\n",
       "      <td> 0</td>\n",
       "      <td> 0</td>\n",
       "      <td>...</td>\n",
       "      <td> 0</td>\n",
       "      <td> 0</td>\n",
       "      <td> 0</td>\n",
       "      <td> 0</td>\n",
       "      <td> 0</td>\n",
       "      <td> 0</td>\n",
       "      <td> 0</td>\n",
       "      <td> 0</td>\n",
       "      <td> 0</td>\n",
       "      <td> 0</td>\n",
       "    </tr>\n",
       "    <tr>\n",
       "      <th>4</th>\n",
       "      <td> fa40b43298ba3f8aa52e8e8863faf2e2171e0b5d</td>\n",
       "      <td> 25</td>\n",
       "      <td> 1</td>\n",
       "      <td> 0</td>\n",
       "      <td> 0</td>\n",
       "      <td> 0</td>\n",
       "      <td> 0</td>\n",
       "      <td> 0</td>\n",
       "      <td> 0</td>\n",
       "      <td> 0</td>\n",
       "      <td>...</td>\n",
       "      <td> 0</td>\n",
       "      <td> 0</td>\n",
       "      <td> 0</td>\n",
       "      <td> 0</td>\n",
       "      <td> 0</td>\n",
       "      <td> 0</td>\n",
       "      <td> 0</td>\n",
       "      <td> 0</td>\n",
       "      <td> 0</td>\n",
       "      <td> 0</td>\n",
       "    </tr>\n",
       "  </tbody>\n",
       "</table>\n",
       "<p>5 rows × 247 columns</p>\n",
       "</div>"
      ],
      "text/plain": [
       "                                       user  age  f  m  sex-nan  Afghanistan  \\\n",
       "0  fa40b43298ba3f8aa52e8e8863faf2e2171e0b5d   25  1  0        0            0   \n",
       "1  fa40b43298ba3f8aa52e8e8863faf2e2171e0b5d   25  1  0        0            0   \n",
       "2  fa40b43298ba3f8aa52e8e8863faf2e2171e0b5d   25  1  0        0            0   \n",
       "3  fa40b43298ba3f8aa52e8e8863faf2e2171e0b5d   25  1  0        0            0   \n",
       "4  fa40b43298ba3f8aa52e8e8863faf2e2171e0b5d   25  1  0        0            0   \n",
       "\n",
       "   Albania  Algeria  American Samoa  Andorra      ...       \\\n",
       "0        0        0               0        0      ...        \n",
       "1        0        0               0        0      ...        \n",
       "2        0        0               0        0      ...        \n",
       "3        0        0               0        0      ...        \n",
       "4        0        0               0        0      ...        \n",
       "\n",
       "   Virgin Islands, British  Virgin Islands, U.s.  Wallis and Futuna  \\\n",
       "0                        0                     0                  0   \n",
       "1                        0                     0                  0   \n",
       "2                        0                     0                  0   \n",
       "3                        0                     0                  0   \n",
       "4                        0                     0                  0   \n",
       "\n",
       "   Western Sahara  Yemen  Zambia  Zimbabwe  country-nan  age-nan  age-negative  \n",
       "0               0      0       0         0            0        0             0  \n",
       "1               0      0       0         0            0        0             0  \n",
       "2               0      0       0         0            0        0             0  \n",
       "3               0      0       0         0            0        0             0  \n",
       "4               0      0       0         0            0        0             0  \n",
       "\n",
       "[5 rows x 247 columns]"
      ]
     },
     "execution_count": 50,
     "metadata": {},
     "output_type": "execute_result"
    }
   ],
   "source": [
    "X_train = merged_data[merged_data.columns[:247]]\n",
    "X_train.head()"
   ]
  },
  {
   "cell_type": "markdown",
   "metadata": {},
   "source": [
    "### K-Means\n",
    "\n",
    "Cluster the users into K classes"
   ]
  },
  {
   "cell_type": "code",
   "execution_count": null,
   "metadata": {
    "collapsed": false
   },
   "outputs": [],
   "source": [
    "from sklearn.cluster import KMeans\n",
    "\n",
    "K = 12 # Number of classes\n",
    "kmeans = KMeans(K) \n",
    "kmeans.fit(X_train)"
   ]
  },
  {
   "cell_type": "code",
   "execution_count": null,
   "metadata": {
    "collapsed": true
   },
   "outputs": [],
   "source": [
    "X_train['labels'] = kmeans.labels__"
   ]
  },
  {
   "cell_type": "markdown",
   "metadata": {
    "collapsed": true
   },
   "source": [
    "###User-Item Collaborative Systems"
   ]
  },
  {
   "cell_type": "code",
   "execution_count": 257,
   "metadata": {
    "collapsed": false
   },
   "outputs": [],
   "source": [
    "from sklearn.cross_validation import KFold\n",
    "kf = KFold(n=len(train), n_folds=5, shuffle=False, random_state=3)"
   ]
  },
  {
   "cell_type": "code",
   "execution_count": 265,
   "metadata": {
    "collapsed": false
   },
   "outputs": [],
   "source": [
    "kfold_predictions = []\n",
    "MAE = []\n",
    "\n",
    "for train_index, test_index in kf:\n",
    "    \n",
    "    X_train, X_test = train.ix[train_index, :], train.ix[test_index, :]\n",
    "    \n",
    "    overall_mean = X_train['plays'].mean()\n",
    "    overall_median = X_train['plays'].median()\n",
    "\n",
    "    subdf = X_train[['artist', 'plays']]\n",
    "    #artist_means = subdf.groupby('artist').mean()\n",
    "    #artist_means['avgplays'] = artist_means['plays'] - overall_mean\n",
    "    #del artist_means['plays']\n",
    "    #artist_means = pd.DataFrame.to_dict(artist_means)['avgplays']\n",
    "    artist_medians = subdf.groupby('artist').median()\n",
    "    artist_medians['medplays'] = artist_medians['plays'] - overall_median\n",
    "    del artist_medians['plays']\n",
    "    artist_medians = pd.DataFrame.to_dict(artist_medians)['medplays']\n",
    "\n",
    "    subdf = X_train[['user', 'plays']]\n",
    "    #user_means = subdf.groupby('user').mean()\n",
    "    #user_means['avgplays'] = user_means['plays'] - overall_mean\n",
    "    #del user_means['plays']\n",
    "    #user_means = pd.DataFrame.to_dict(user_means)['avgplays']\n",
    "    user_medians = subdf.groupby('user').median()\n",
    "    user_medians['medplays'] = user_medians['plays'] - overall_median\n",
    "    del user_medians['plays']\n",
    "    user_medians = pd.DataFrame.to_dict(user_medians)['medplays']\n",
    "    \n",
    "    predictions = []\n",
    "    for i, j in zip(X_test['user'], X_test['artist']):\n",
    "        '''\n",
    "        try:\n",
    "            p = overall_mean + user_means[i] + artist_means[j]\n",
    "            #if p < 0:\n",
    "            #    p = 0\n",
    "            predictions.append(p)\n",
    "        except:\n",
    "            p = overall_mean + 0 + artist_means[j]\n",
    "            #if p < 0:\n",
    "            #    p = 0\n",
    "            predictions.append(p)\n",
    "        '''\n",
    "        try:\n",
    "            p = overall_median + user_medians[i] + artist_medians[j]\n",
    "            if p < 0:\n",
    "                p = 0\n",
    "            predictions.append(p)\n",
    "        except:\n",
    "            p = overall_median + 0 + artist_medians[j]\n",
    "            if p < 0:\n",
    "                p = 0\n",
    "            predictions.append(p)\n",
    "    shift = min(predictions)\n",
    "    #predictions = predictions + shift\n",
    "    \n",
    "    MAE.append(sum(abs(X_test['plays'] - predictions))/len(X_test))\n",
    "    kfold_predictions.append(predictions)"
   ]
  },
  {
   "cell_type": "code",
   "execution_count": 212,
   "metadata": {
    "collapsed": false
   },
   "outputs": [
    {
     "data": {
      "text/plain": [
       "[257.28789827309532,\n",
       " 258.15533086042217,\n",
       " 256.69504440356701,\n",
       " 255.94572232779623,\n",
       " 257.43756353338642]"
      ]
     },
     "execution_count": 212,
     "metadata": {},
     "output_type": "execute_result"
    }
   ],
   "source": [
    "MAE # MEAN: for shifting every prediciton up to min"
   ]
  },
  {
   "cell_type": "code",
   "execution_count": 210,
   "metadata": {
    "collapsed": false
   },
   "outputs": [
    {
     "data": {
      "text/plain": [
       "[176.25186801713923,\n",
       " 174.94202683803979,\n",
       " 175.06217330929474,\n",
       " 175.41404116109535,\n",
       " 175.36080979232705]"
      ]
     },
     "execution_count": 210,
     "metadata": {},
     "output_type": "execute_result"
    }
   ],
   "source": [
    "MAE # MEAN: for setting = 0"
   ]
  },
  {
   "cell_type": "code",
   "execution_count": 260,
   "metadata": {
    "collapsed": false
   },
   "outputs": [
    {
     "data": {
      "text/plain": [
       "[186.90224450967014,\n",
       " 184.03921543851035,\n",
       " 184.39845913346113,\n",
       " 184.14110168828623,\n",
       " 184.26433943872149]"
      ]
     },
     "execution_count": 260,
     "metadata": {},
     "output_type": "execute_result"
    }
   ],
   "source": [
    "MAE # MEDIAN: for shifting every prediciton up to min"
   ]
  },
  {
   "cell_type": "code",
   "execution_count": 266,
   "metadata": {
    "collapsed": false
   },
   "outputs": [
    {
     "data": {
      "text/plain": [
       "[143.100447554097,\n",
       " 141.88868611162258,\n",
       " 142.14390928094099,\n",
       " 141.43150280217725,\n",
       " 141.47249566766149]"
      ]
     },
     "execution_count": 266,
     "metadata": {},
     "output_type": "execute_result"
    }
   ],
   "source": [
    "MAE # MEDIAN: for setting = 0"
   ]
  },
  {
   "cell_type": "code",
   "execution_count": 216,
   "metadata": {
    "collapsed": false
   },
   "outputs": [],
   "source": [
    "overall_mean = train['plays'].mean()\n",
    "\n",
    "subdf = train[['artist', 'plays']]\n",
    "artist_means = subdf.groupby('artist').mean()\n",
    "artist_means['avgplays'] = artist_means['plays'] - overall_mean\n",
    "del artist_means['plays']\n",
    "artist_means = pd.DataFrame.to_dict(artist_means)['avgplays']\n",
    "\n",
    "subdf = train[['user', 'plays']]\n",
    "user_means = subdf.groupby('user').mean()\n",
    "user_means['avgplays'] = user_means['plays'] - overall_mean\n",
    "del user_means['plays']\n",
    "user_means = pd.DataFrame.to_dict(user_means)['avgplays']\n",
    "\n",
    "predictions = []\n",
    "for i, j in zip(test['user'], test['artist']):\n",
    "    p = overall_mean + user_means[i] + artist_means[j]\n",
    "    if p < 0:\n",
    "        p = 0\n",
    "    predictions.append(p)"
   ]
  },
  {
   "cell_type": "code",
   "execution_count": 223,
   "metadata": {
    "collapsed": false
   },
   "outputs": [],
   "source": [
    "# Write out test solutions - MEAN\n",
    "soln_file  = 'mean_adjust.csv'\n",
    "test_file  = 'test.csv'\n",
    "\n",
    "with open(test_file, 'r') as test_fh:\n",
    "    test_csv = csv.reader(test_fh, delimiter=',', quotechar='\"')\n",
    "    next(test_csv, None)\n",
    "\n",
    "    with open(soln_file, 'w') as soln_fh:\n",
    "        soln_csv = csv.writer(soln_fh,\n",
    "                              delimiter=',',\n",
    "                              quotechar='\"',\n",
    "                              quoting=csv.QUOTE_MINIMAL)\n",
    "        soln_csv.writerow(['Id', 'plays'])\n",
    "\n",
    "        for row in test_csv:\n",
    "            id     = row[0]\n",
    "            p = predictions[int(id)-1]\n",
    "\n",
    "            soln_csv.writerow([id, p])\n",
    "# KAGGLE SCORE: 174.23682"
   ]
  },
  {
   "cell_type": "code",
   "execution_count": 267,
   "metadata": {
    "collapsed": true
   },
   "outputs": [],
   "source": [
    "# Write out test solutions - MEDIAN\n",
    "\n",
    "overall_median = train['plays'].median()\n",
    "\n",
    "subdf = train[['artist', 'plays']]\n",
    "artist_medians = subdf.groupby('artist').median()\n",
    "artist_medians['medplays'] = artist_medians['plays'] - overall_median\n",
    "del artist_medians['plays']\n",
    "artist_medians = pd.DataFrame.to_dict(artist_medians)['medplays']\n",
    "\n",
    "subdf = train[['user', 'plays']]\n",
    "user_medians = subdf.groupby('user').median()\n",
    "user_medians['medplays'] = user_medians['plays'] - overall_median\n",
    "del user_medians['plays']\n",
    "user_medians = pd.DataFrame.to_dict(user_medians)['medplays']\n",
    "\n",
    "predictions = []\n",
    "for i, j in zip(test['user'], test['artist']):\n",
    "    p = overall_median + user_medians[i] + artist_medians[j]\n",
    "    if p < 0:\n",
    "        p = 0\n",
    "    predictions.append(p)"
   ]
  },
  {
   "cell_type": "code",
   "execution_count": 269,
   "metadata": {
    "collapsed": true
   },
   "outputs": [],
   "source": [
    "# Write out test solutions - MEDIAN\n",
    "soln_file  = 'median_adjust.csv'\n",
    "test_file  = 'test.csv'\n",
    "\n",
    "with open(test_file, 'r') as test_fh:\n",
    "    test_csv = csv.reader(test_fh, delimiter=',', quotechar='\"')\n",
    "    next(test_csv, None)\n",
    "\n",
    "    with open(soln_file, 'w') as soln_fh:\n",
    "        soln_csv = csv.writer(soln_fh,\n",
    "                              delimiter=',',\n",
    "                              quotechar='\"',\n",
    "                              quoting=csv.QUOTE_MINIMAL)\n",
    "        soln_csv.writerow(['Id', 'plays'])\n",
    "\n",
    "        for row in test_csv:\n",
    "            id     = row[0]\n",
    "            p = predictions[int(id)-1]\n",
    "\n",
    "            soln_csv.writerow([id, p])\n",
    "# KAGGLE SCORE: 141.24741"
   ]
  }
 ],
 "metadata": {
  "kernelspec": {
   "display_name": "Python 2",
   "language": "python",
   "name": "python2"
  },
  "language_info": {
   "codemirror_mode": {
    "name": "ipython",
    "version": 2
   },
   "file_extension": ".py",
   "mimetype": "text/x-python",
   "name": "python",
   "nbconvert_exporter": "python",
   "pygments_lexer": "ipython2",
   "version": "2.7.11"
  }
 },
 "nbformat": 4,
 "nbformat_minor": 0
}
