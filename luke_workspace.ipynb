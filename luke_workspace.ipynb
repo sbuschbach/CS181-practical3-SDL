{
 "cells": [
  {
   "cell_type": "code",
   "execution_count": 1,
   "metadata": {
    "collapsed": false
   },
   "outputs": [],
   "source": [
    "import pandas as pd\n",
    "import scipy\n",
    "import numpy as np\n",
    "from scipy.stats import pearsonr\n",
    "from itertools import combinations\n",
    "import cPickle\n",
    "from scipy.spatial.distance import correlation\n",
    "import sklearn\n",
    "\n",
    "from sklearn.decomposition import PCA\n",
    "import matplotlib.pyplot as plt\n",
    "from sklearn.neighbors import NearestNeighbors\n",
    "%matplotlib inline"
   ]
  },
  {
   "cell_type": "code",
   "execution_count": 2,
   "metadata": {
    "collapsed": true
   },
   "outputs": [],
   "source": [
    "train_set = pd.read_csv(\"train.csv\", index_col=[0,1])"
   ]
  },
  {
   "cell_type": "code",
   "execution_count": 3,
   "metadata": {
    "collapsed": false
   },
   "outputs": [],
   "source": [
    "train_set_unstacked = train_set.unstack(level=-1)\n",
    "train_set_unstacked.fillna(0,inplace=True)"
   ]
  },
  {
   "cell_type": "code",
   "execution_count": 4,
   "metadata": {
    "collapsed": false
   },
   "outputs": [],
   "source": [
    "# center and scale\n",
    "stdscaler = sklearn.preprocessing.StandardScaler()\n",
    "norm_train_set_unstacked = stdscaler.fit_transform(train_set_unstacked.transpose()).transpose()"
   ]
  },
  {
   "cell_type": "code",
   "execution_count": 12,
   "metadata": {
    "collapsed": false
   },
   "outputs": [],
   "source": [
    "user_set = pd.read_csv(\"train.csv\")['user']\n",
    "users = list(set(user_set))\n",
    "user_mapping = {value: key for (key,value) in list(enumerate(users))}"
   ]
  },
  {
   "cell_type": "code",
   "execution_count": 15,
   "metadata": {
    "collapsed": false
   },
   "outputs": [],
   "source": [
    "# investigate training set PCA\n",
    "train_set_PCA = cPickle.load(open(\"./train_set_PCA.npy\",'r'))\n",
    "train_set_PCA.fit(norm_train_set_unstacked)\n",
    "explained_var_percentages = train_set_PCA.explained_variance_ratio_\n",
    "\n",
    "# pickle the PCA instance in case we lose it\n",
    "cPickle.dump(train_set_PCA, open(\"./train_set_PCA.npy\",'w'))"
   ]
  },
  {
   "cell_type": "code",
   "execution_count": 16,
   "metadata": {
    "collapsed": false
   },
   "outputs": [
    {
     "data": {
      "text/plain": [
       "[<matplotlib.lines.Line2D at 0x117d6eb90>]"
      ]
     },
     "execution_count": 16,
     "metadata": {},
     "output_type": "execute_result"
    },
    {
     "data": {
      "image/png": "[encoded data removed]",
      "text/plain": [
       "<matplotlib.figure.Figure at 0x10e99d390>"
      ]
     },
     "metadata": {},
     "output_type": "display_data"
    }
   ],
   "source": [
    "plt.plot(range(0,len(train_set_PCA.explained_variance_ratio_)), train_set_PCA.explained_variance_ratio_)"
   ]
  },
  {
   "cell_type": "code",
   "execution_count": 20,
   "metadata": {
    "collapsed": false
   },
   "outputs": [
    {
     "data": {
      "text/plain": [
       "0.0026484167769864212"
      ]
     },
     "execution_count": 20,
     "metadata": {},
     "output_type": "execute_result"
    }
   ],
   "source": [
    "explained_var_percentages[50]"
   ]
  },
  {
   "cell_type": "code",
   "execution_count": 32,
   "metadata": {
    "collapsed": false
   },
   "outputs": [],
   "source": [
    "red_norm_train_set = cPickle.load(open(\"./reduced_normalized_train_set.npy\",'r'))\n",
    "#cPickle.dump(red_norm_train_set, open(\"./reduced_normalized_train_set.npy\",'w'))"
   ]
  },
  {
   "cell_type": "code",
   "execution_count": 33,
   "metadata": {
    "collapsed": false
   },
   "outputs": [],
   "source": [
    "# retain first 100 PCA components\n",
    "red_norm_train_set_100 = red_norm_train_set[::,0:100]\n",
    "cPickle.dump(red_norm_train_set_100 ,open(\"./red_norm_train_set_100.npy\",'w'))"
   ]
  },
  {
   "cell_type": "code",
   "execution_count": null,
   "metadata": {
    "collapsed": false
   },
   "outputs": [],
   "source": []
  },
  {
   "cell_type": "markdown",
   "metadata": {},
   "source": [
    "Valid values for metric are:\n",
    "\n",
    "from scikit-learn: [‘cityblock’, ‘cosine’, ‘euclidean’, ‘l1’, ‘l2’, ‘manhattan’]\n",
    "\n",
    "from scipy.spatial.distance: [‘braycurtis’, ‘canberra’, ‘chebyshev’, ‘correlation’, ‘dice’, ‘hamming’, ‘jaccard’, ‘kulsinski’, ‘mahalanobis’, ‘matching’, ‘minkowski’, ‘rogerstanimoto’, ‘russellrao’, ‘seuclidean’, ‘sokalmichener’, ‘sokalsneath’, ‘sqeuclidean’, ‘yule’]"
   ]
  },
  {
   "cell_type": "code",
   "execution_count": 38,
   "metadata": {
    "collapsed": false
   },
   "outputs": [
    {
     "data": {
      "text/plain": [
       "NearestNeighbors(algorithm='brute', leaf_size=30, metric='correlation',\n",
       "         metric_params=None, n_jobs=1, n_neighbors=5, p=2, radius=1.0)"
      ]
     },
     "execution_count": 38,
     "metadata": {},
     "output_type": "execute_result"
    }
   ],
   "source": [
    "# We use NearestNeighbors to find users with similar music taste, i.e. construct a similarity matrix\n",
    "\n",
    "neighbors_unsup = NearestNeighbors(metric = 'correlation', algorithm='brute', n_jobs = 1)\n",
    "neighbors_unsup.fit(red_norm_train_set_100)"
   ]
  },
  {
   "cell_type": "code",
   "execution_count": 29,
   "metadata": {
    "collapsed": false
   },
   "outputs": [],
   "source": [
    "test_set = pd.read_csv('test.csv')"
   ]
  },
  {
   "cell_type": "code",
   "execution_count": 27,
   "metadata": {
    "collapsed": true
   },
   "outputs": [],
   "source": [
    "# cleanse column names\n",
    "train_set_unstacked.columns = [ col[1] for col in train_set_unstacked.columns ]"
   ]
  },
  {
   "cell_type": "code",
   "execution_count": 35,
   "metadata": {
    "collapsed": false
   },
   "outputs": [],
   "source": [
    "norm_train_set_unstacked = pd.DataFrame(norm_train_set_unstacked, columns = train_set_unstacked.columns)"
   ]
  },
  {
   "cell_type": "code",
   "execution_count": null,
   "metadata": {
    "collapsed": false
   },
   "outputs": [],
   "source": [
    "preds = []\n",
    "for x in test_set.iterrows():\n",
    "    pred_id = x[1][0]\n",
    "    user_id = x[1][1]\n",
    "    artist_id = x[1][2]\n",
    "    user_enum = user_mapping[user_id]\n",
    "    user_features = red_norm_train_set_100[user_enum]\n",
    "    neighbors = neighbors_unsup.kneighbors(X=[red_norm_train_set_100[user_enum]], n_neighbors = 25)\n",
    "    dists = neighbors[0][0][1:]\n",
    "    k = sum(dists)\n",
    "    # now find neighbor's ratings and sum, skipping own ratings\n",
    "    adj = [(float(norm_train_set_unstacked.ix[[nbr]][artist_id])*dists[idx]) / k   for idx, nbr in enumerate(neighbors[1][0][1:])]\n",
    "    rating = sum(adj) * np.sqrt(stdscaler.var_[user_enum]) + stdscaler.var_[user_enum]\n",
    "    preds.append(rating)"
   ]
  },
  {
   "cell_type": "code",
   "execution_count": null,
   "metadata": {
    "collapsed": false
   },
   "outputs": [],
   "source": []
  },
  {
   "cell_type": "code",
   "execution_count": null,
   "metadata": {
    "collapsed": false
   },
   "outputs": [],
   "source": []
  },
  {
   "cell_type": "code",
   "execution_count": null,
   "metadata": {
    "collapsed": false
   },
   "outputs": [],
   "source": [
    "%xdel train_set_unstacked"
   ]
  },
  {
   "cell_type": "code",
   "execution_count": null,
   "metadata": {
    "collapsed": false
   },
   "outputs": [],
   "source": [
    "# example of curse of dimensionality?\n",
    "closest_5_neighbors_test"
   ]
  },
  {
   "cell_type": "code",
   "execution_count": null,
   "metadata": {
    "collapsed": false
   },
   "outputs": [],
   "source": []
  },
  {
   "cell_type": "code",
   "execution_count": null,
   "metadata": {
    "collapsed": true
   },
   "outputs": [],
   "source": []
  }
 ],
 "metadata": {
  "kernelspec": {
   "display_name": "Python 2",
   "language": "python",
   "name": "python2"
  },
  "language_info": {
   "codemirror_mode": {
    "name": "ipython",
    "version": 2
   },
   "file_extension": ".py",
   "mimetype": "text/x-python",
   "name": "python",
   "nbconvert_exporter": "python",
   "pygments_lexer": "ipython2",
   "version": "2.7.8"
  }
 },
 "nbformat": 4,
 "nbformat_minor": 0
}
